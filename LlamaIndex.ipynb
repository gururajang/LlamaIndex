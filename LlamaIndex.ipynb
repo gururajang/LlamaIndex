{
 "cells": [
  {
   "cell_type": "code",
   "execution_count": 9,
   "id": "6bb4b582-279b-49a5-9474-2520e4a74330",
   "metadata": {},
   "outputs": [],
   "source": [
    "#!pip install llama-index"
   ]
  },
  {
   "cell_type": "code",
   "execution_count": 1,
   "id": "52decbbf-de2a-449e-8e57-dfce2ba46266",
   "metadata": {},
   "outputs": [],
   "source": [
    "#!pip install llama-index==0.5.12"
   ]
  },
  {
   "cell_type": "code",
   "execution_count": 10,
   "id": "d65adfcc-d62f-4ae7-b38f-ac839f9ae95a",
   "metadata": {},
   "outputs": [],
   "source": [
    "import streamlit as st"
   ]
  },
  {
   "cell_type": "code",
   "execution_count": 12,
   "id": "87fe07c6-ee36-4542-88bd-5d49e22f6408",
   "metadata": {},
   "outputs": [
    {
     "name": "stdout",
     "output_type": "stream",
     "text": [
      "Overwriting app.py\n"
     ]
    }
   ],
   "source": [
    "%%writefile app.py\n",
    "import os\n",
    "os.environ[\"OPENAI_API_KEY\"] = ''\n",
    "\n",
    "import streamlit as st\n",
    "from llama_index import download_loader\n",
    "from llama_index.node_parser import SimpleNodeParser\n",
    "from llama_index import GPTSimpleVectorIndex\n",
    "from llama_index import LLMPredictor, GPTSimpleVectorIndex, PromptHelper, ServiceContext\n",
    "from langchain import OpenAI\n",
    "\n",
    "doc_path = './data/'\n",
    "index_file = 'index.json'\n",
    "\n",
    "if 'response' not in st.session_state:\n",
    "    st.session_state.response = ''\n",
    "\n",
    "def send_click():\n",
    "    st.session_state.response  = index.query(st.session_state.prompt)\n",
    "\n",
    "index = None\n",
    "st.title(\"Guru's Doc Chatbot\")\n",
    "\n",
    "sidebar_placeholder = st.sidebar.container()\n",
    "uploaded_file = st.file_uploader(\"Choose a file\")\n",
    "\n",
    "if uploaded_file is not None:\n",
    "\n",
    "    doc_files = os.listdir(doc_path)\n",
    "    for doc_file in doc_files:\n",
    "        os.remove(doc_path + doc_file)\n",
    "\n",
    "    bytes_data = uploaded_file.read()\n",
    "    with open(f\"{doc_path}{uploaded_file.name}\", 'wb') as f: \n",
    "        f.write(bytes_data)\n",
    "\n",
    "    SimpleDirectoryReader = download_loader(\"SimpleDirectoryReader\")\n",
    "\n",
    "    loader = SimpleDirectoryReader(doc_path, recursive=True, exclude_hidden=True)\n",
    "    documents = loader.load_data()\n",
    "    sidebar_placeholder.header('Current Processing Document:')\n",
    "    sidebar_placeholder.subheader(uploaded_file.name)\n",
    "    sidebar_placeholder.write(documents[0].get_text()[:10000]+'...')\n",
    "\n",
    "    llm_predictor = LLMPredictor(llm=OpenAI(temperature=0, model_name=\"text-davinci-003\"))\n",
    "\n",
    "    max_input_size = 4096\n",
    "    num_output = 256\n",
    "    max_chunk_overlap = 20\n",
    "    prompt_helper = PromptHelper(max_input_size, num_output, max_chunk_overlap)\n",
    "\n",
    "    service_context = ServiceContext.from_defaults(llm_predictor=llm_predictor, prompt_helper=prompt_helper)\n",
    "\n",
    "    index = GPTSimpleVectorIndex.from_documents(\n",
    "        documents, service_context=service_context\n",
    "    )\n",
    "\n",
    "    index.save_to_disk(index_file)\n",
    "\n",
    "elif os.path.exists(index_file):\n",
    "    index = GPTSimpleVectorIndex.load_from_disk(index_file)\n",
    "\n",
    "    SimpleDirectoryReader = download_loader(\"SimpleDirectoryReader\")\n",
    "    loader = SimpleDirectoryReader(doc_path, recursive=True, exclude_hidden=True)\n",
    "    documents = loader.load_data()\n",
    "    doc_filename = os.listdir(doc_path)[0]\n",
    "    sidebar_placeholder.header('Current Processing Document:')\n",
    "    sidebar_placeholder.subheader(doc_filename)\n",
    "    sidebar_placeholder.write(documents[0].get_text()[:10000]+'...')\n",
    "\n",
    "if index != None:\n",
    "    st.text_input(\"Ask something: \", key='prompt')\n",
    "    st.button(\"Send\", on_click=send_click)\n",
    "    if st.session_state.response:\n",
    "        st.subheader(\"Response: \")\n",
    "        st.success(st.session_state.response, icon= \"🤖\")\n",
    "\n"
   ]
  },
  {
   "cell_type": "code",
   "execution_count": null,
   "id": "7631d0b8-e3ac-4e60-8b85-78eda3aea3ca",
   "metadata": {},
   "outputs": [],
   "source": [
    "!streamlit run app.py"
   ]
  },
  {
   "cell_type": "code",
   "execution_count": null,
   "id": "a9798086-be2d-4968-98f3-4d3e11869271",
   "metadata": {},
   "outputs": [],
   "source": []
  }
 ],
 "metadata": {
  "kernelspec": {
   "display_name": "Python 3 (ipykernel)",
   "language": "python",
   "name": "python3"
  },
  "language_info": {
   "codemirror_mode": {
    "name": "ipython",
    "version": 3
   },
   "file_extension": ".py",
   "mimetype": "text/x-python",
   "name": "python",
   "nbconvert_exporter": "python",
   "pygments_lexer": "ipython3",
   "version": "3.10.9"
  }
 },
 "nbformat": 4,
 "nbformat_minor": 5
}
